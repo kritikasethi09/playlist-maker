{
 "cells": [
  {
   "cell_type": "code",
   "execution_count": 4,
   "id": "03bd156d-bbc5-44a1-b212-e352c9138e4f",
   "metadata": {},
   "outputs": [],
   "source": [
    "from sklearn.preprocessing import StandardScaler\n",
    "import matplotlib.pyplot as plt\n",
    "import numpy as np\n",
    "import pandas as pd\n",
    "import mplcursors \n",
    "\n",
    "df = pd.read_csv('raw_data.csv')\n",
    "# Define the features to normalize (excluding non-numeric columns like 'Track Name' and 'Artist Name')\n",
    "features_to_normalize = df[['Popularity', 'Acousticness', 'Danceability', 'Energy', 'Instrumentalness', 'Loudness', 'Speechiness', 'Tempo', 'Valence']]\n",
    "\n",
    "scaler = StandardScaler()\n",
    "\n",
    "# Fit and transform the features to have mean=0 and std=1\n",
    "normalized_features = scaler.fit_transform(features_to_normalize)\n",
    "\n",
    "# Replace the original features in the DataFrame with the normalized features\n",
    "df[['Popularity', 'Acousticness', 'Danceability', 'Energy', 'Instrumentalness', 'Loudness', 'Speechiness', 'Tempo', 'Valence']] = normalized_features"
   ]
  }
 ],
 "metadata": {
  "kernelspec": {
   "display_name": "Python 3 (ipykernel)",
   "language": "python",
   "name": "python3"
  },
  "language_info": {
   "codemirror_mode": {
    "name": "ipython",
    "version": 3
   },
   "file_extension": ".py",
   "mimetype": "text/x-python",
   "name": "python",
   "nbconvert_exporter": "python",
   "pygments_lexer": "ipython3",
   "version": "3.11.6"
  }
 },
 "nbformat": 4,
 "nbformat_minor": 5
}
